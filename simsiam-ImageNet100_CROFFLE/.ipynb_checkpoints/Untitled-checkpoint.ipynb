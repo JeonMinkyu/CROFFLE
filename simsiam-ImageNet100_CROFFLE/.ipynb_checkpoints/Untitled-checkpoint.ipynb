{
 "cells": [
  {
   "cell_type": "code",
   "execution_count": 79,
   "metadata": {},
   "outputs": [],
   "source": [
    "import torch\n",
    "import torch.nn.functional as F\n",
    "import torch.nn as nn"
   ]
  },
  {
   "cell_type": "code",
   "execution_count": 63,
   "metadata": {},
   "outputs": [],
   "source": [
    "mean_ = torch.zeros(512)\n",
    "cov_ =  torch.randn(512,512) + 10*torch.eye(512)\n",
    "\n",
    "m = torch.zeros(512)\n",
    "identity = torch.eye(512)"
   ]
  },
  {
   "cell_type": "code",
   "execution_count": 64,
   "metadata": {},
   "outputs": [
    {
     "ename": "RuntimeError",
     "evalue": "cholesky_cpu: U(26,26) is zero, singular U.",
     "output_type": "error",
     "traceback": [
      "\u001b[0;31m---------------------------------------------------------------------------\u001b[0m",
      "\u001b[0;31mRuntimeError\u001b[0m                              Traceback (most recent call last)",
      "\u001b[0;32m<ipython-input-64-8fbef50f6267>\u001b[0m in \u001b[0;36m<module>\u001b[0;34m\u001b[0m\n\u001b[0;32m----> 1\u001b[0;31m \u001b[0mdist\u001b[0m \u001b[0;34m=\u001b[0m \u001b[0mtorch\u001b[0m\u001b[0;34m.\u001b[0m\u001b[0mdistributions\u001b[0m\u001b[0;34m.\u001b[0m\u001b[0mMultivariateNormal\u001b[0m\u001b[0;34m(\u001b[0m\u001b[0mmean_\u001b[0m\u001b[0;34m,\u001b[0m \u001b[0mcovariance_matrix\u001b[0m\u001b[0;34m=\u001b[0m\u001b[0mcov_\u001b[0m\u001b[0;34m)\u001b[0m\u001b[0;34m\u001b[0m\u001b[0;34m\u001b[0m\u001b[0m\n\u001b[0m",
      "\u001b[0;32m~/.conda/envs/minkyu/lib/python3.7/site-packages/torch/distributions/multivariate_normal.py\u001b[0m in \u001b[0;36m__init__\u001b[0;34m(self, loc, covariance_matrix, precision_matrix, scale_tril, validate_args)\u001b[0m\n\u001b[1;32m    147\u001b[0m             \u001b[0mself\u001b[0m\u001b[0;34m.\u001b[0m\u001b[0m_unbroadcasted_scale_tril\u001b[0m \u001b[0;34m=\u001b[0m \u001b[0mscale_tril\u001b[0m\u001b[0;34m\u001b[0m\u001b[0;34m\u001b[0m\u001b[0m\n\u001b[1;32m    148\u001b[0m         \u001b[0;32melif\u001b[0m \u001b[0mcovariance_matrix\u001b[0m \u001b[0;32mis\u001b[0m \u001b[0;32mnot\u001b[0m \u001b[0;32mNone\u001b[0m\u001b[0;34m:\u001b[0m\u001b[0;34m\u001b[0m\u001b[0;34m\u001b[0m\u001b[0m\n\u001b[0;32m--> 149\u001b[0;31m             \u001b[0mself\u001b[0m\u001b[0;34m.\u001b[0m\u001b[0m_unbroadcasted_scale_tril\u001b[0m \u001b[0;34m=\u001b[0m \u001b[0mtorch\u001b[0m\u001b[0;34m.\u001b[0m\u001b[0mcholesky\u001b[0m\u001b[0;34m(\u001b[0m\u001b[0mcovariance_matrix\u001b[0m\u001b[0;34m)\u001b[0m\u001b[0;34m\u001b[0m\u001b[0;34m\u001b[0m\u001b[0m\n\u001b[0m\u001b[1;32m    150\u001b[0m         \u001b[0;32melse\u001b[0m\u001b[0;34m:\u001b[0m  \u001b[0;31m# precision_matrix is not None\u001b[0m\u001b[0;34m\u001b[0m\u001b[0;34m\u001b[0m\u001b[0m\n\u001b[1;32m    151\u001b[0m             \u001b[0mself\u001b[0m\u001b[0;34m.\u001b[0m\u001b[0m_unbroadcasted_scale_tril\u001b[0m \u001b[0;34m=\u001b[0m \u001b[0m_precision_to_scale_tril\u001b[0m\u001b[0;34m(\u001b[0m\u001b[0mprecision_matrix\u001b[0m\u001b[0;34m)\u001b[0m\u001b[0;34m\u001b[0m\u001b[0;34m\u001b[0m\u001b[0m\n",
      "\u001b[0;31mRuntimeError\u001b[0m: cholesky_cpu: U(26,26) is zero, singular U."
     ]
    }
   ],
   "source": [
    "dist = torch.distributions.MultivariateNormal(mean_, covariance_matrix=cov_)\n"
   ]
  },
  {
   "cell_type": "code",
   "execution_count": 65,
   "metadata": {},
   "outputs": [],
   "source": [
    "gaus = torch.distributions.MultivariateNormal(m, covariance_matrix=identity)\n"
   ]
  },
  {
   "cell_type": "code",
   "execution_count": 66,
   "metadata": {},
   "outputs": [
    {
     "data": {
      "text/plain": [
       "tensor(230.7553)"
      ]
     },
     "execution_count": 66,
     "metadata": {},
     "output_type": "execute_result"
    }
   ],
   "source": [
    "torch.distributions.kl_divergence(dist, gaus)"
   ]
  },
  {
   "cell_type": "code",
   "execution_count": 69,
   "metadata": {},
   "outputs": [
    {
     "ename": "RuntimeError",
     "evalue": "cholesky_cpu: U(26,26) is zero, singular U.",
     "output_type": "error",
     "traceback": [
      "\u001b[0;31m---------------------------------------------------------------------------\u001b[0m",
      "\u001b[0;31mRuntimeError\u001b[0m                              Traceback (most recent call last)",
      "\u001b[0;32m<ipython-input-69-824ee65f041b>\u001b[0m in \u001b[0;36m<module>\u001b[0;34m\u001b[0m\n\u001b[0;32m----> 1\u001b[0;31m \u001b[0mtorch\u001b[0m\u001b[0;34m.\u001b[0m\u001b[0mcholesky\u001b[0m\u001b[0;34m(\u001b[0m\u001b[0mcov_\u001b[0m\u001b[0;34m)\u001b[0m\u001b[0;34m\u001b[0m\u001b[0;34m\u001b[0m\u001b[0m\n\u001b[0m",
      "\u001b[0;31mRuntimeError\u001b[0m: cholesky_cpu: U(26,26) is zero, singular U."
     ]
    }
   ],
   "source": [
    "torch.cholesky(cov_)"
   ]
  },
  {
   "cell_type": "code",
   "execution_count": 80,
   "metadata": {},
   "outputs": [],
   "source": [
    "class GaussianLoss(nn.Module):\n",
    "    def __init__(self, feature_dim=512, alpha=0.1, device='cuda'):\n",
    "        super(GaussianLoss, self).__init__()\n",
    "        self.alpha = alpha\n",
    "        self.mean = torch.zeros(feature_dim).cuda()\n",
    "        self.cov = torch.eye(feature_dim, feature_dim).cuda()\n",
    "\n",
    "        # self.mean = None\n",
    "        # self.cov = None\n",
    "\n",
    "        self.feature_dim = feature_dim\n",
    "        # self.cuda_num = torch.cuda.current_device()\n",
    "        # self.bn = nn.BatchNorm1d(feature_dim)\n",
    "        # self.relu = nn.ReLU(inplace=True)\n",
    "        # self.linear = nn.Linear(feature_dim, cov_dim)\n",
    "    def forward(self, x, x_prime):\n",
    "        # x = (batch, feature_dim)\n",
    "        # x = F.relu(x)\n",
    "        # x = self.relu(self.bn(x))\n",
    "        # x = self.linear(x)\n",
    "        x = F.normalize(x, dim=1)\n",
    "        x_prime = F.normalize(x_prime, dim=1)\n",
    "        x = (x + x_prime) / 2 \n",
    "\n",
    "\n",
    "        mean_ = (1 - self.alpha) * self.mean + self.alpha * x # (batch, feature_dim)\n",
    "        \n",
    "        x_minus_mean = x - mean_ # (batch, feature_dim)\n",
    "\n",
    "        # (batch,feature_dim,1) * (batch, 1, feature_dim) -> (batch, feature_dim, feature_dim)\n",
    "        cov_ = torch.bmm(x_minus_mean.unsqueeze(2), x_minus_mean.unsqueeze(1)) #+ 1e-03 # [256, 128, 128]\n",
    "        \n",
    "        cov_.add_((torch.eye(self.feature_dim)*1e-7).cuda())\n",
    "\n",
    "        #print(cov_)\n",
    "        #cov_ = (1 - self.alpha) * self.cov + self.alpha * cov_ \n",
    "        # loss calculation\n",
    "       # print(cov_)\n",
    "        dist = torch.distributions.MultivariateNormal(mean_, covariance_matrix=cov_)\n",
    "        loss = dist.log_prob(x)\n",
    "        #print(loss.mean())\n",
    "        # change the running mean and running variance\n",
    "        self.mean = mean_.mean(dim=0).detach() # (1, feature_dim)\n",
    "        self.cov = cov_.mean(dim=0).detach()\n",
    "        loss = torch.log(torch.abs(loss))\n",
    "       # loss = torch.distributions.kl_divergence(dist, gaus)\n",
    "        return loss.mean() #loss"
   ]
  },
  {
   "cell_type": "code",
   "execution_count": 81,
   "metadata": {},
   "outputs": [],
   "source": [
    "l = GaussianLoss()"
   ]
  },
  {
   "cell_type": "code",
   "execution_count": 86,
   "metadata": {},
   "outputs": [],
   "source": [
    "x= torch.randn(256,512).cuda()\n",
    "x_= torch.randn(256,512).cuda()"
   ]
  },
  {
   "cell_type": "code",
   "execution_count": 87,
   "metadata": {},
   "outputs": [
    {
     "name": "stdout",
     "output_type": "stream",
     "text": [
      "tensor([[[ 1.4327e-03, -8.8094e-04, -3.7725e-04,  ..., -1.4628e-04,\n",
      "           1.5383e-03,  2.1851e-03],\n",
      "         [-8.8094e-04,  5.4169e-04,  2.3197e-04,  ...,  8.9944e-05,\n",
      "          -9.4592e-04, -1.3436e-03],\n",
      "         [-3.7725e-04,  2.3197e-04,  9.9340e-05,  ...,  3.8518e-05,\n",
      "          -4.0508e-04, -5.7539e-04],\n",
      "         ...,\n",
      "         [-1.4628e-04,  8.9944e-05,  3.8518e-05,  ...,  1.4935e-05,\n",
      "          -1.5707e-04, -2.2310e-04],\n",
      "         [ 1.5383e-03, -9.4592e-04, -4.0508e-04,  ..., -1.5707e-04,\n",
      "           1.6518e-03,  2.3463e-03],\n",
      "         [ 2.1851e-03, -1.3436e-03, -5.7539e-04,  ..., -2.2310e-04,\n",
      "           2.3463e-03,  3.3327e-03]],\n",
      "\n",
      "        [[ 1.7932e-05,  3.1554e-05,  1.4081e-04,  ...,  2.2651e-04,\n",
      "          -6.3970e-05,  1.3167e-04],\n",
      "         [ 3.1554e-05,  5.5522e-05,  2.4777e-04,  ...,  3.9856e-04,\n",
      "          -1.1256e-04,  2.3169e-04],\n",
      "         [ 1.4081e-04,  2.4777e-04,  1.1057e-03,  ...,  1.7786e-03,\n",
      "          -5.0232e-04,  1.0340e-03],\n",
      "         ...,\n",
      "         [ 2.2651e-04,  3.9856e-04,  1.7786e-03,  ...,  2.8611e-03,\n",
      "          -8.0802e-04,  1.6632e-03],\n",
      "         [-6.3970e-05, -1.1256e-04, -5.0232e-04,  ..., -8.0802e-04,\n",
      "           2.2820e-04, -4.6972e-04],\n",
      "         [ 1.3167e-04,  2.3169e-04,  1.0340e-03,  ...,  1.6632e-03,\n",
      "          -4.6972e-04,  9.6685e-04]],\n",
      "\n",
      "        [[ 3.8775e-03,  1.8703e-03,  2.0796e-03,  ..., -1.8777e-03,\n",
      "          -3.9473e-04,  3.0342e-04],\n",
      "         [ 1.8703e-03,  9.0215e-04,  1.0031e-03,  ..., -9.0569e-04,\n",
      "          -1.9040e-04,  1.4636e-04],\n",
      "         [ 2.0796e-03,  1.0031e-03,  1.1154e-03,  ..., -1.0070e-03,\n",
      "          -2.1171e-04,  1.6273e-04],\n",
      "         ...,\n",
      "         [-1.8777e-03, -9.0569e-04, -1.0070e-03,  ...,  9.0925e-04,\n",
      "           1.9115e-04, -1.4693e-04],\n",
      "         [-3.9473e-04, -1.9040e-04, -2.1171e-04,  ...,  1.9115e-04,\n",
      "           4.0184e-05, -3.0888e-05],\n",
      "         [ 3.0342e-04,  1.4636e-04,  1.6273e-04,  ..., -1.4693e-04,\n",
      "          -3.0888e-05,  2.3743e-05]],\n",
      "\n",
      "        ...,\n",
      "\n",
      "        [[ 6.2489e-04, -2.7495e-04, -3.7985e-04,  ...,  9.2065e-04,\n",
      "           2.8612e-04,  9.4491e-05],\n",
      "         [-2.7495e-04,  1.2098e-04,  1.6713e-04,  ..., -4.0509e-04,\n",
      "          -1.2589e-04, -4.1576e-05],\n",
      "         [-3.7985e-04,  1.6713e-04,  2.3090e-04,  ..., -5.5964e-04,\n",
      "          -1.7392e-04, -5.7438e-05],\n",
      "         ...,\n",
      "         [ 9.2065e-04, -4.0509e-04, -5.5964e-04,  ...,  1.3564e-03,\n",
      "           4.2154e-04,  1.3921e-04],\n",
      "         [ 2.8612e-04, -1.2589e-04, -1.7392e-04,  ...,  4.2154e-04,\n",
      "           1.3101e-04,  4.3265e-05],\n",
      "         [ 9.4491e-05, -4.1576e-05, -5.7438e-05,  ...,  1.3921e-04,\n",
      "           4.3265e-05,  1.4288e-05]],\n",
      "\n",
      "        [[ 4.5805e-04,  8.2666e-04, -6.4156e-05,  ..., -2.6955e-04,\n",
      "          -5.9802e-04,  1.1216e-03],\n",
      "         [ 8.2666e-04,  1.4919e-03, -1.1579e-04,  ..., -4.8647e-04,\n",
      "          -1.0793e-03,  2.0242e-03],\n",
      "         [-6.4156e-05, -1.1579e-04,  8.9860e-06,  ...,  3.7754e-05,\n",
      "           8.3761e-05, -1.5710e-04],\n",
      "         ...,\n",
      "         [-2.6955e-04, -4.8647e-04,  3.7754e-05,  ...,  1.5862e-04,\n",
      "           3.5192e-04, -6.6003e-04],\n",
      "         [-5.9802e-04, -1.0793e-03,  8.3761e-05,  ...,  3.5192e-04,\n",
      "           7.8076e-04, -1.4643e-03],\n",
      "         [ 1.1216e-03,  2.0242e-03, -1.5710e-04,  ..., -6.6003e-04,\n",
      "          -1.4643e-03,  2.7464e-03]],\n",
      "\n",
      "        [[ 3.8800e-04, -5.1000e-04, -1.1776e-04,  ...,  4.9391e-04,\n",
      "           5.3482e-04,  1.5776e-03],\n",
      "         [-5.1000e-04,  6.7035e-04,  1.5479e-04,  ..., -6.4921e-04,\n",
      "          -7.0298e-04, -2.0736e-03],\n",
      "         [-1.1776e-04,  1.5479e-04,  3.5743e-05,  ..., -1.4991e-04,\n",
      "          -1.6232e-04, -4.7882e-04],\n",
      "         ...,\n",
      "         [ 4.9391e-04, -6.4921e-04, -1.4991e-04,  ...,  6.2873e-04,\n",
      "           6.8080e-04,  2.0082e-03],\n",
      "         [ 5.3482e-04, -7.0298e-04, -1.6232e-04,  ...,  6.8080e-04,\n",
      "           7.3719e-04,  2.1746e-03],\n",
      "         [ 1.5776e-03, -2.0736e-03, -4.7882e-04,  ...,  2.0082e-03,\n",
      "           2.1746e-03,  6.4145e-03]]], device='cuda:0')\n"
     ]
    },
    {
     "data": {
      "text/plain": [
       "tensor(8.2018, device='cuda:0')"
      ]
     },
     "execution_count": 87,
     "metadata": {},
     "output_type": "execute_result"
    }
   ],
   "source": [
    "l(x, x_)"
   ]
  },
  {
   "cell_type": "code",
   "execution_count": null,
   "metadata": {},
   "outputs": [],
   "source": []
  }
 ],
 "metadata": {
  "kernelspec": {
   "display_name": "minkyu",
   "language": "python",
   "name": "minkyu"
  },
  "language_info": {
   "codemirror_mode": {
    "name": "ipython",
    "version": 3
   },
   "file_extension": ".py",
   "mimetype": "text/x-python",
   "name": "python",
   "nbconvert_exporter": "python",
   "pygments_lexer": "ipython3",
   "version": "3.7.9"
  }
 },
 "nbformat": 4,
 "nbformat_minor": 4
}
