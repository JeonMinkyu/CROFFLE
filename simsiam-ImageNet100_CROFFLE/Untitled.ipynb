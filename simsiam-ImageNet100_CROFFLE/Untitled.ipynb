{
 "cells": [
  {
   "cell_type": "code",
   "execution_count": 1,
   "metadata": {},
   "outputs": [],
   "source": [
    "import torch\n",
    "import torch.nn.functional as F\n",
    "import torch.nn as nn"
   ]
  },
  {
   "cell_type": "code",
   "execution_count": 7,
   "metadata": {},
   "outputs": [],
   "source": [
    "class GaussianLoss(nn.Module):\n",
    "    def __init__(self, feature_dim=10, cov_dim=10,alpha=0.9, device='cuda'):\n",
    "        super(GaussianLoss, self).__init__()\n",
    "        self.alpha = alpha\n",
    "        self.mean = torch.zeros(cov_dim).cuda()\n",
    "        self.cov = torch.eye(cov_dim, cov_dim).cuda()\n",
    "        self.feature_dim = feature_dim\n",
    "        self.cov_dim = cov_dim\n",
    "        # self.cuda_num = torch.cuda.current_device()\n",
    "        self.linear = nn.Linear(feature_dim, cov_dim)\n",
    "    def forward(self, x):\n",
    "        # x = (batch, feature_dim)\n",
    "        x = self.linear(x)\n",
    "        x = F.normalize(x, dim=1)\n",
    "        mean_ = (1 - self.alpha) * self.mean + self.alpha * x # (batch, feature_dim)\n",
    "        x_minus_mean = x - mean_ # (batch, feature_dim)\n",
    "        # (batch,feature_dim,1) * (batch, 1, feature_dim) -> (batch, feature_dim, feature_dim)\n",
    "        cov_ = torch.bmm(x_minus_mean.unsqueeze(2), x_minus_mean.unsqueeze(1)) #+ 1e-03 # [256, 128, 128]\n",
    "        cov_.add_((torch.eye(self.cov_dim)*1e-7).cuda())\n",
    "        cov_ = (1 - self.alpha) * self.cov + self.alpha * cov_ \n",
    "        print(cov_)\n",
    "        #print(mean_.shape)\n",
    "        #mean_ = torch.mean(mean_, dim=0).detach()\n",
    "        #cov_ = torch.mean(cov_, dim=0).detach()\n",
    "        print(mean_.shape,cov_.shape)\n",
    "        # loss calculation\n",
    "        dist = torch.distributions.MultivariateNormal(mean_, covariance_matrix=cov_)\n",
    "        #print('dist.sample:',dist.sample().shape, dist.sample())\n",
    "        loss = 0#dist.log_prob(x)\n",
    "        # change the running mean and running variance\n",
    "        self.mean = mean_.mean(dim=0).detach() # (1, feature_dim)\n",
    "        self.cov = cov_.mean(dim=0).detach()\n",
    "        #loss = torch.log(loss)\n",
    "        return loss#.mean() #loss"
   ]
  },
  {
   "cell_type": "code",
   "execution_count": 8,
   "metadata": {},
   "outputs": [],
   "source": [
    "l = GaussianLoss().cuda()"
   ]
  },
  {
   "cell_type": "code",
   "execution_count": 9,
   "metadata": {},
   "outputs": [],
   "source": [
    "x= torch.randn(15,10).cuda()\n"
   ]
  },
  {
   "cell_type": "code",
   "execution_count": 10,
   "metadata": {},
   "outputs": [
    {
     "name": "stdout",
     "output_type": "stream",
     "text": [
      "tensor([[[ 1.0019e-01, -7.4541e-04, -8.2174e-06,  ..., -4.1343e-04,\n",
      "          -5.8962e-04, -1.3652e-04],\n",
      "         [-7.4541e-04,  1.0292e-01,  3.2144e-05,  ...,  1.6172e-03,\n",
      "           2.3064e-03,  5.3402e-04],\n",
      "         [-8.2174e-06,  3.2144e-05,  1.0000e-01,  ...,  1.7828e-05,\n",
      "           2.5426e-05,  5.8870e-06],\n",
      "         ...,\n",
      "         [-4.1343e-04,  1.6172e-03,  1.7828e-05,  ...,  1.0090e-01,\n",
      "           1.2792e-03,  2.9619e-04],\n",
      "         [-5.8962e-04,  2.3064e-03,  2.5426e-05,  ...,  1.2792e-03,\n",
      "           1.0182e-01,  4.2241e-04],\n",
      "         [-1.3652e-04,  5.3402e-04,  5.8870e-06,  ...,  2.9619e-04,\n",
      "           4.2241e-04,  1.0010e-01]],\n",
      "\n",
      "        [[ 1.0129e-01,  1.3790e-03, -1.3187e-04,  ...,  5.5309e-04,\n",
      "           1.1285e-03,  2.8353e-04],\n",
      "         [ 1.3790e-03,  1.0147e-01, -1.4054e-04,  ...,  5.8947e-04,\n",
      "           1.2027e-03,  3.0218e-04],\n",
      "         [-1.3187e-04, -1.4054e-04,  1.0001e-01,  ..., -5.6367e-05,\n",
      "          -1.1500e-04, -2.8896e-05],\n",
      "         ...,\n",
      "         [ 5.5309e-04,  5.8947e-04, -5.6367e-05,  ...,  1.0024e-01,\n",
      "           4.8236e-04,  1.2120e-04],\n",
      "         [ 1.1285e-03,  1.2027e-03, -1.1500e-04,  ...,  4.8236e-04,\n",
      "           1.0098e-01,  2.4727e-04],\n",
      "         [ 2.8353e-04,  3.0218e-04, -2.8896e-05,  ...,  1.2120e-04,\n",
      "           2.4727e-04,  1.0006e-01]],\n",
      "\n",
      "        [[ 1.0081e-01,  5.3744e-04, -1.2869e-06,  ..., -3.4604e-04,\n",
      "           7.0013e-04, -5.3299e-05],\n",
      "         [ 5.3744e-04,  1.0036e-01, -8.5597e-07,  ..., -2.3017e-04,\n",
      "           4.6569e-04, -3.5452e-05],\n",
      "         [-1.2869e-06, -8.5597e-07,  1.0000e-01,  ...,  5.5114e-07,\n",
      "          -1.1151e-06,  8.4888e-08],\n",
      "         ...,\n",
      "         [-3.4604e-04, -2.3017e-04,  5.5114e-07,  ...,  1.0015e-01,\n",
      "          -2.9985e-04,  2.2826e-05],\n",
      "         [ 7.0013e-04,  4.6569e-04, -1.1151e-06,  ..., -2.9985e-04,\n",
      "           1.0061e-01, -4.6184e-05],\n",
      "         [-5.3299e-05, -3.5452e-05,  8.4888e-08,  ...,  2.2826e-05,\n",
      "          -4.6184e-05,  1.0000e-01]],\n",
      "\n",
      "        ...,\n",
      "\n",
      "        [[ 1.0081e-01, -1.2251e-03,  7.2713e-04,  ..., -8.0198e-04,\n",
      "          -1.2475e-03,  9.7968e-04],\n",
      "         [-1.2251e-03,  1.0184e-01, -1.0935e-03,  ...,  1.2060e-03,\n",
      "           1.8759e-03, -1.4733e-03],\n",
      "         [ 7.2713e-04, -1.0935e-03,  1.0065e-01,  ..., -7.1582e-04,\n",
      "          -1.1134e-03,  8.7442e-04],\n",
      "         ...,\n",
      "         [-8.0198e-04,  1.2060e-03, -7.1582e-04,  ...,  1.0079e-01,\n",
      "           1.2281e-03, -9.6445e-04],\n",
      "         [-1.2475e-03,  1.8759e-03, -1.1134e-03,  ...,  1.2281e-03,\n",
      "           1.0191e-01, -1.5002e-03],\n",
      "         [ 9.7968e-04, -1.4733e-03,  8.7442e-04,  ..., -9.6445e-04,\n",
      "          -1.5002e-03,  1.0118e-01]],\n",
      "\n",
      "        [[ 1.0044e-01,  6.0863e-04, -7.2991e-04,  ..., -3.5956e-04,\n",
      "          -5.4721e-04,  2.6157e-04],\n",
      "         [ 6.0863e-04,  1.0084e-01, -1.0104e-03,  ..., -4.9772e-04,\n",
      "          -7.5748e-04,  3.6209e-04],\n",
      "         [-7.2991e-04, -1.0104e-03,  1.0121e-01,  ...,  5.9690e-04,\n",
      "           9.0842e-04, -4.3424e-04],\n",
      "         ...,\n",
      "         [-3.5956e-04, -4.9772e-04,  5.9690e-04,  ...,  1.0029e-01,\n",
      "           4.4749e-04, -2.1391e-04],\n",
      "         [-5.4721e-04, -7.5748e-04,  9.0842e-04,  ...,  4.4749e-04,\n",
      "           1.0068e-01, -3.2555e-04],\n",
      "         [ 2.6157e-04,  3.6209e-04, -4.3424e-04,  ..., -2.1391e-04,\n",
      "          -3.2555e-04,  1.0016e-01]],\n",
      "\n",
      "        [[ 1.0019e-01, -5.7081e-04, -1.4650e-04,  ..., -3.8129e-04,\n",
      "          -1.4382e-04, -7.4528e-04],\n",
      "         [-5.7081e-04,  1.0167e-01,  4.2938e-04,  ...,  1.1175e-03,\n",
      "           4.2152e-04,  2.1843e-03],\n",
      "         [-1.4650e-04,  4.2938e-04,  1.0011e-01,  ...,  2.8682e-04,\n",
      "           1.0819e-04,  5.6063e-04],\n",
      "         ...,\n",
      "         [-3.8129e-04,  1.1175e-03,  2.8682e-04,  ...,  1.0075e-01,\n",
      "           2.8157e-04,  1.4591e-03],\n",
      "         [-1.4382e-04,  4.2152e-04,  1.0819e-04,  ...,  2.8157e-04,\n",
      "           1.0011e-01,  5.5037e-04],\n",
      "         [-7.4528e-04,  2.1843e-03,  5.6063e-04,  ...,  1.4591e-03,\n",
      "           5.5037e-04,  1.0285e-01]]], device='cuda:0', grad_fn=<AddBackward0>)\n",
      "torch.Size([15, 10]) torch.Size([15, 10, 10])\n"
     ]
    },
    {
     "data": {
      "text/plain": [
       "0"
      ]
     },
     "execution_count": 10,
     "metadata": {},
     "output_type": "execute_result"
    }
   ],
   "source": [
    "l(x)"
   ]
  },
  {
   "cell_type": "code",
   "execution_count": 2,
   "metadata": {},
   "outputs": [],
   "source": [
    "test = torch.distributions.MultivariateNormal(torch.zeros(10), torch.eye(10))"
   ]
  },
  {
   "cell_type": "code",
   "execution_count": 3,
   "metadata": {},
   "outputs": [
    {
     "data": {
      "text/plain": [
       "tensor([ 0.3162,  0.7397, -1.4405,  0.7338, -0.0237,  0.7221,  0.4206, -0.9367,\n",
       "        -0.9734,  0.4955])"
      ]
     },
     "execution_count": 3,
     "metadata": {},
     "output_type": "execute_result"
    }
   ],
   "source": [
    "test.sample()"
   ]
  },
  {
   "cell_type": "code",
   "execution_count": 6,
   "metadata": {},
   "outputs": [
    {
     "data": {
      "text/plain": [
       "tensor([0., 0., 0., 0., 0., 0., 0., 0., 0., 0.], device='cuda:0')"
      ]
     },
     "execution_count": 6,
     "metadata": {},
     "output_type": "execute_result"
    }
   ],
   "source": [
    "torch.zeros(10).cuda()"
   ]
  },
  {
   "cell_type": "code",
   "execution_count": null,
   "metadata": {},
   "outputs": [],
   "source": []
  }
 ],
 "metadata": {
  "kernelspec": {
   "display_name": "minkyu",
   "language": "python",
   "name": "minkyu"
  },
  "language_info": {
   "codemirror_mode": {
    "name": "ipython",
    "version": 3
   },
   "file_extension": ".py",
   "mimetype": "text/x-python",
   "name": "python",
   "nbconvert_exporter": "python",
   "pygments_lexer": "ipython3",
   "version": "3.7.9"
  }
 },
 "nbformat": 4,
 "nbformat_minor": 4
}
